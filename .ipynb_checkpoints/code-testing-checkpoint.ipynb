{
 "cells": [
  {
   "cell_type": "code",
   "execution_count": 1,
   "metadata": {
    "ExecuteTime": {
     "end_time": "2021-10-12T17:12:37.056832Z",
     "start_time": "2021-10-12T17:12:24.705638Z"
    }
   },
   "outputs": [
    {
     "data": {
      "text/html": [
       "<style>.container { width:100% !important; }</style>"
      ],
      "text/plain": [
       "<IPython.core.display.HTML object>"
      ]
     },
     "metadata": {},
     "output_type": "display_data"
    }
   ],
   "source": [
    "from IPython.core.display import display, HTML\n",
    "display(HTML(\"<style>.container { width:100% !important; }</style>\"))\n",
    "\n",
    "from Yolo_detect.util import *\n",
    "from Yolo_detect.darknet import *\n",
    "import cv2\n",
    "import torch\n",
    "import pandas as pd\n",
    "import numpy as np\n",
    "\n",
    "\n",
    "from torch import nn\n",
    "import json\n",
    "from torchvision import transforms\n",
    "\n",
    "from torch.nn.utils.rnn import pack_padded_sequence \n",
    "from torch.utils.data import Dataset, DataLoader\n",
    "from fastai.vision import learner, data\n",
    "from fastai.metrics import top_k_accuracy\n",
    "from fastai.text import *\n",
    "from fastai.vision import *\n",
    "\n",
    "from pathlib import Path\n",
    "\n",
    "\n",
    "from PIL import Image\n",
    "\n",
    "from pdb import set_trace\n",
    "\n",
    "%load_ext autoreload\n",
    "%autoreload 2\n",
    "\n",
    "device = torch.device(\"cuda\" if torch.cuda.is_available() else \"cpu\")\n",
    "\n"
   ]
  },
  {
   "cell_type": "markdown",
   "metadata": {},
   "source": [
    "## Testing Model"
   ]
  },
  {
   "cell_type": "code",
   "execution_count": 2,
   "metadata": {
    "ExecuteTime": {
     "end_time": "2021-10-12T17:12:40.642537Z",
     "start_time": "2021-10-12T17:12:37.084622Z"
    },
    "scrolled": false
   },
   "outputs": [
    {
     "name": "stderr",
     "output_type": "stream",
     "text": [
      "/home/skumar/miniconda3/envs/Obj_Detection/lib/python3.8/site-packages/torch/nn/functional.py:3609: UserWarning: Default upsampling behavior when mode=bilinear is changed to align_corners=False since 0.4.0. Please specify align_corners=True if the old behavior is desired. See the documentation of nn.Upsample for details.\n",
      "  warnings.warn(\n"
     ]
    }
   ],
   "source": [
    "model = Darknet('./cfg/yolov3.cfg')\n",
    "model.load_weights('./yolov3.weights')\n",
    "inp = get_test_input()\n",
    "pred = model(inp, torch.cuda.is_available())"
   ]
  },
  {
   "cell_type": "code",
   "execution_count": 3,
   "metadata": {
    "ExecuteTime": {
     "end_time": "2021-10-12T17:12:40.727188Z",
     "start_time": "2021-10-12T17:12:40.711763Z"
    }
   },
   "outputs": [
    {
     "data": {
      "text/plain": [
       "7.0"
      ]
     },
     "execution_count": 3,
     "metadata": {},
     "output_type": "execute_result"
    }
   ],
   "source": [
    "(10647   ## no of bboxes\n",
    " /3      ## no of anchors \n",
    " /3      ## no of diff size bbox (sclaes) \n",
    " /13/13  ## no of grids \n",
    ")\n",
    "\n",
    "\n",
    "#wget --no-check-certificate -c \"https://dl3.3rver.org/hex1/Series/Cosmos.A.Spacetime.Odyssey/S01/Cosmos.A.Spacetime.Odyssey.S01E01.480p.HexDL.com.mkv\" -P ~/Downloads/TvShows/cosmos/S01/\n",
    "#wget --no-check-certificate -c \"https://dl3.3rver.org/hex2/Series/Our.Planet/S01/Our.Planet.S01E01.480p.HexDL.com.mkv\" -P -P ~/Downloads/TvShows/OurPlanet/S01/"
   ]
  },
  {
   "cell_type": "markdown",
   "metadata": {},
   "source": [
    "## Fastai Objects"
   ]
  },
  {
   "cell_type": "markdown",
   "metadata": {},
   "source": [
    "### Custom Dataset"
   ]
  },
  {
   "cell_type": "code",
   "execution_count": 15,
   "metadata": {
    "ExecuteTime": {
     "end_time": "2021-10-12T17:24:41.596949Z",
     "start_time": "2021-10-12T17:24:41.563596Z"
    },
    "code_folding": []
   },
   "outputs": [],
   "source": [
    "class ImageCaptionDataset(Dataset):\n",
    "    '''\n",
    "    Class Dataset object to be used by Dataloader to feed input in batches  \n",
    "    '''\n",
    "    \n",
    "    def __init__(self,Dataset_folder=\"DataSets\",split = \"train\",apply_transforms=True):\n",
    "        split = split.lower()\n",
    "        \n",
    "        data = input_prep(Dataset_folder)\n",
    "        \n",
    "        self.data = data.loc[data.set == split]\n",
    "        self.img_ids = data.ImageID.unique()\n",
    "        self.path = f\"{Dataset_folder}/{split}_images\"\n",
    "        self.apply_transforms = apply_transforms\n",
    "        \n",
    "    def __len__(self):\n",
    "        return len(self.data)\n",
    "    \n",
    "    def __getitem__(self, idx):\n",
    "        # Grayscale images in dataset have to be onverted as tensor shapes have to match except in dim=0\n",
    "            \n",
    "        image_id = self.img_ids[idx]\n",
    "        target = preprocess_box(self.data,image_id,self.path,self.apply_transforms)\n",
    "        return target"
   ]
  },
  {
   "cell_type": "markdown",
   "metadata": {},
   "source": [
    "## Inputs Preparation"
   ]
  },
  {
   "cell_type": "code",
   "execution_count": 16,
   "metadata": {
    "ExecuteTime": {
     "end_time": "2021-10-12T17:25:01.719957Z",
     "start_time": "2021-10-12T17:24:42.339391Z"
    }
   },
   "outputs": [],
   "source": [
    "train_dataset = ImageCaptionDataset()\n",
    "valid_dataset = ImageCaptionDataset(split='valid')"
   ]
  },
  {
   "cell_type": "code",
   "execution_count": 19,
   "metadata": {
    "ExecuteTime": {
     "end_time": "2021-10-12T17:29:37.248871Z",
     "start_time": "2021-10-12T17:29:37.220687Z"
    }
   },
   "outputs": [
    {
     "ename": "NameError",
     "evalue": "name 'dblock' is not defined",
     "output_type": "error",
     "traceback": [
      "\u001b[0;31m---------------------------------------------------------------------------\u001b[0m",
      "\u001b[0;31mNameError\u001b[0m                                 Traceback (most recent call last)",
      "\u001b[0;32m/tmp/ipykernel_1836332/2772858890.py\u001b[0m in \u001b[0;36m<module>\u001b[0;34m\u001b[0m\n\u001b[0;32m----> 1\u001b[0;31m \u001b[0mdblock\u001b[0m\u001b[0;34m\u001b[0m\u001b[0;34m\u001b[0m\u001b[0m\n\u001b[0m",
      "\u001b[0;31mNameError\u001b[0m: name 'dblock' is not defined"
     ]
    }
   ],
   "source": [
    "dblock"
   ]
  },
  {
   "cell_type": "markdown",
   "metadata": {},
   "source": [
    "## Dataloader"
   ]
  },
  {
   "cell_type": "code",
   "execution_count": 11,
   "metadata": {
    "ExecuteTime": {
     "end_time": "2021-10-12T17:16:51.111011Z",
     "start_time": "2021-10-12T17:16:51.085670Z"
    }
   },
   "outputs": [
    {
     "ename": "ModuleNotFoundError",
     "evalue": "No module named 'migrating_pytorch'",
     "output_type": "error",
     "traceback": [
      "\u001b[0;31m---------------------------------------------------------------------------\u001b[0m",
      "\u001b[0;31mModuleNotFoundError\u001b[0m                       Traceback (most recent call last)",
      "\u001b[0;32m/tmp/ipykernel_1836332/4272958780.py\u001b[0m in \u001b[0;36m<module>\u001b[0;34m\u001b[0m\n\u001b[0;32m----> 1\u001b[0;31m \u001b[0;32mfrom\u001b[0m \u001b[0mmigrating_pytorch\u001b[0m \u001b[0;32mimport\u001b[0m \u001b[0;34m*\u001b[0m\u001b[0;34m\u001b[0m\u001b[0;34m\u001b[0m\u001b[0m\n\u001b[0m",
      "\u001b[0;31mModuleNotFoundError\u001b[0m: No module named 'migrating_pytorch'"
     ]
    }
   ],
   "source": [
    "from migrating_pytorch import *"
   ]
  },
  {
   "cell_type": "code",
   "execution_count": 9,
   "metadata": {
    "ExecuteTime": {
     "end_time": "2021-10-12T17:14:06.719606Z",
     "start_time": "2021-10-12T17:14:06.694905Z"
    }
   },
   "outputs": [
    {
     "ename": "NameError",
     "evalue": "name 'Databunch' is not defined",
     "output_type": "error",
     "traceback": [
      "\u001b[0;31m---------------------------------------------------------------------------\u001b[0m",
      "\u001b[0;31mNameError\u001b[0m                                 Traceback (most recent call last)",
      "\u001b[0;32m/tmp/ipykernel_1836332/3609624155.py\u001b[0m in \u001b[0;36m<module>\u001b[0;34m\u001b[0m\n\u001b[1;32m      4\u001b[0m \u001b[0mtrn_dl\u001b[0m \u001b[0;34m=\u001b[0m \u001b[0mDataLoader\u001b[0m\u001b[0;34m(\u001b[0m\u001b[0mdataset\u001b[0m\u001b[0;34m=\u001b[0m\u001b[0mtrain_dataset\u001b[0m\u001b[0;34m,\u001b[0m \u001b[0mbatch_size\u001b[0m\u001b[0;34m=\u001b[0m\u001b[0mbs\u001b[0m\u001b[0;34m,\u001b[0m \u001b[0mcollate_fn\u001b[0m\u001b[0;34m=\u001b[0m\u001b[0mpreprocess_truebox\u001b[0m \u001b[0;34m,\u001b[0m\u001b[0mpin_memory\u001b[0m\u001b[0;34m=\u001b[0m\u001b[0;32mFalse\u001b[0m\u001b[0;34m)\u001b[0m\u001b[0;34m\u001b[0m\u001b[0;34m\u001b[0m\u001b[0m\n\u001b[1;32m      5\u001b[0m \u001b[0;34m\u001b[0m\u001b[0m\n\u001b[0;32m----> 6\u001b[0;31m \u001b[0mdataBunch\u001b[0m \u001b[0;34m=\u001b[0m \u001b[0mDatabunch\u001b[0m\u001b[0;34m(\u001b[0m\u001b[0mtrain_dl\u001b[0m\u001b[0;34m=\u001b[0m\u001b[0mtrn_dl\u001b[0m\u001b[0;34m,\u001b[0m \u001b[0mvalid_dl\u001b[0m\u001b[0;34m=\u001b[0m\u001b[0mval_dl\u001b[0m \u001b[0;34m,\u001b[0m\u001b[0mdevice\u001b[0m\u001b[0;34m=\u001b[0m\u001b[0mdevice\u001b[0m\u001b[0;34m,\u001b[0m\u001b[0mcollate_fn\u001b[0m\u001b[0;34m=\u001b[0m\u001b[0mpreprocess_truebox\u001b[0m\u001b[0;34m)\u001b[0m\u001b[0;34m\u001b[0m\u001b[0;34m\u001b[0m\u001b[0m\n\u001b[0m",
      "\u001b[0;31mNameError\u001b[0m: name 'Databunch' is not defined"
     ]
    }
   ],
   "source": [
    "### defaine data loaders for loading inputs batches into network\n",
    "bs=4\n",
    "val_dl = DataLoader(dataset=valid_dataset, batch_size=bs, collate_fn=preprocess_truebox ,pin_memory=False)\n",
    "trn_dl = DataLoader(dataset=train_dataset, batch_size=bs, collate_fn=preprocess_truebox ,pin_memory=False)\n",
    "\n",
    "dataBunch = Databunch(train_dl=trn_dl, valid_dl=val_dl ,device=device,collate_fn=preprocess_truebox)"
   ]
  },
  {
   "cell_type": "code",
   "execution_count": 10,
   "metadata": {
    "ExecuteTime": {
     "end_time": "2021-10-12T17:15:22.922449Z",
     "start_time": "2021-10-12T17:15:22.897020Z"
    }
   },
   "outputs": [
    {
     "ename": "NameError",
     "evalue": "name 'DataLoaders' is not defined",
     "output_type": "error",
     "traceback": [
      "\u001b[0;31m---------------------------------------------------------------------------\u001b[0m",
      "\u001b[0;31mNameError\u001b[0m                                 Traceback (most recent call last)",
      "\u001b[0;32m/tmp/ipykernel_1836332/1601601793.py\u001b[0m in \u001b[0;36m<module>\u001b[0;34m\u001b[0m\n\u001b[0;32m----> 1\u001b[0;31m \u001b[0mDataLoaders\u001b[0m\u001b[0;34m\u001b[0m\u001b[0;34m\u001b[0m\u001b[0m\n\u001b[0m",
      "\u001b[0;31mNameError\u001b[0m: name 'DataLoaders' is not defined"
     ]
    }
   ],
   "source": [
    "DataLoader()"
   ]
  },
  {
   "cell_type": "code",
   "execution_count": null,
   "metadata": {},
   "outputs": [],
   "source": []
  },
  {
   "cell_type": "markdown",
   "metadata": {},
   "source": [
    "## Appendix"
   ]
  },
  {
   "cell_type": "code",
   "execution_count": 11,
   "metadata": {
    "ExecuteTime": {
     "end_time": "2021-08-20T05:38:40.788707Z",
     "start_time": "2021-08-20T05:38:40.767850Z"
    }
   },
   "outputs": [
    {
     "name": "stdout",
     "output_type": "stream",
     "text": [
      "The autoreload extension is already loaded. To reload it, use:\n",
      "  %reload_ext autoreload\n"
     ]
    }
   ],
   "source": [
    "from PIL import Image\n",
    "from Yolo_detect.tmp import *\n",
    "\n",
    "%load_ext autoreload\n",
    "%autoreload 2"
   ]
  },
  {
   "cell_type": "code",
   "execution_count": 9,
   "metadata": {
    "ExecuteTime": {
     "end_time": "2021-08-24T16:58:05.448723Z",
     "start_time": "2021-08-24T16:58:05.443632Z"
    }
   },
   "outputs": [
    {
     "data": {
      "text/plain": [
       "array([[133, 355, 231, 444,   0],\n",
       "       [257, 404, 375, 480,   0],\n",
       "       [373,  99, 515, 207,   0],\n",
       "       [384, 165, 502, 257,   0],\n",
       "       [112,   1, 206, 124,   0],\n",
       "       [102, 127, 223, 226,   0],\n",
       "       [365, 261, 454, 375,   0],\n",
       "       [494, 231, 588, 345,   0],\n",
       "       [538, 101, 629, 227,   0],\n",
       "       [  1,  79, 102, 206,   0],\n",
       "       [ 11, 218, 111, 342,   0],\n",
       "       [244, 146, 388, 242,   0],\n",
       "       [579, 292, 640, 400,   0],\n",
       "       [481, 374, 589, 477,   0]])"
      ]
     },
     "execution_count": 9,
     "metadata": {},
     "output_type": "execute_result"
    }
   ],
   "source": [
    "annotation_line = \"DataSets/test_images/0a12bdc73183b4e4.jpg 133,355,231,444,0 257,404,375,480,0 373,99,515,207,0 384,165,502,257,0 112,1,206,124,0 102,127,223,226,0 365,261,454,375,0 494,231,588,345,0 538,101,629,227,0 1,79,102,206,0 11,218,111,342,0 244,146,388,242,0 579,292,640,400,0 481,374,589,477,0\"\n",
    "\n",
    "line = annotation_line.split(' ')\n",
    "a=np.array([np.array(list(map(int,box.split(',')))) for box in line[1:]])\n",
    "a"
   ]
  },
  {
   "cell_type": "code",
   "execution_count": 34,
   "metadata": {
    "ExecuteTime": {
     "end_time": "2021-08-20T06:15:30.990073Z",
     "start_time": "2021-08-20T06:15:28.941445Z"
    },
    "scrolled": false
   },
   "outputs": [
    {
     "name": "stdout",
     "output_type": "stream",
     "text": [
      "> \u001b[0;32m/home/skumar/DataScience/Projects_Section/Projects_Working/Yolo_OjbDetection/Yolo_detect/tmp.py\u001b[0m(17)\u001b[0;36mget_random_data\u001b[0;34m()\u001b[0m\n",
      "\u001b[0;32m     15 \u001b[0;31m\u001b[0;34m\u001b[0m\u001b[0m\n",
      "\u001b[0m\u001b[0;32m     16 \u001b[0;31m    \u001b[0mset_trace\u001b[0m\u001b[0;34m(\u001b[0m\u001b[0;34m)\u001b[0m\u001b[0;34m\u001b[0m\u001b[0;34m\u001b[0m\u001b[0m\n",
      "\u001b[0m\u001b[0;32m---> 17 \u001b[0;31m    \u001b[0;32mif\u001b[0m \u001b[0;32mnot\u001b[0m \u001b[0mrandom\u001b[0m\u001b[0;34m:\u001b[0m\u001b[0;34m\u001b[0m\u001b[0;34m\u001b[0m\u001b[0m\n",
      "\u001b[0m\u001b[0;32m     18 \u001b[0;31m        \u001b[0;31m# resize image\u001b[0m\u001b[0;34m\u001b[0m\u001b[0;34m\u001b[0m\u001b[0;34m\u001b[0m\u001b[0m\n",
      "\u001b[0m\u001b[0;32m     19 \u001b[0;31m        \u001b[0mscale\u001b[0m \u001b[0;34m=\u001b[0m \u001b[0mmin\u001b[0m\u001b[0;34m(\u001b[0m\u001b[0mw\u001b[0m\u001b[0;34m/\u001b[0m\u001b[0miw\u001b[0m\u001b[0;34m,\u001b[0m \u001b[0mh\u001b[0m\u001b[0;34m/\u001b[0m\u001b[0mih\u001b[0m\u001b[0;34m)\u001b[0m\u001b[0;34m\u001b[0m\u001b[0;34m\u001b[0m\u001b[0m\n",
      "\u001b[0m\n",
      "ipdb> c\n"
     ]
    }
   ],
   "source": [
    "img,box = get_random_data(annotation_line,(416,416),random=False)"
   ]
  },
  {
   "cell_type": "code",
   "execution_count": 55,
   "metadata": {
    "ExecuteTime": {
     "end_time": "2021-08-20T06:35:01.342219Z",
     "start_time": "2021-08-20T06:35:01.322156Z"
    }
   },
   "outputs": [],
   "source": [
    "img,box = np.expand_dims(img,axis=0),np.expand_dims(box,axis=0)"
   ]
  },
  {
   "cell_type": "code",
   "execution_count": null,
   "metadata": {},
   "outputs": [],
   "source": []
  }
 ],
 "metadata": {
  "interpreter": {
   "hash": "f11be1dc06d9729147f93852a2d3bb65da4bc063ef092d10dab664a6174cb534"
  },
  "kernelspec": {
   "display_name": "Obj_Detection",
   "language": "python",
   "name": "obj_detection"
  },
  "language_info": {
   "codemirror_mode": {
    "name": "ipython",
    "version": 3
   },
   "file_extension": ".py",
   "mimetype": "text/x-python",
   "name": "python",
   "nbconvert_exporter": "python",
   "pygments_lexer": "ipython3",
   "version": "3.8.11"
  },
  "toc": {
   "base_numbering": 1,
   "nav_menu": {},
   "number_sections": true,
   "sideBar": true,
   "skip_h1_title": false,
   "title_cell": "Table of Contents",
   "title_sidebar": "Contents",
   "toc_cell": false,
   "toc_position": {},
   "toc_section_display": true,
   "toc_window_display": false
  },
  "varInspector": {
   "cols": {
    "lenName": 16,
    "lenType": 16,
    "lenVar": 40
   },
   "kernels_config": {
    "python": {
     "delete_cmd_postfix": "",
     "delete_cmd_prefix": "del ",
     "library": "var_list.py",
     "varRefreshCmd": "print(var_dic_list())"
    },
    "r": {
     "delete_cmd_postfix": ") ",
     "delete_cmd_prefix": "rm(",
     "library": "var_list.r",
     "varRefreshCmd": "cat(var_dic_list()) "
    }
   },
   "types_to_exclude": [
    "module",
    "function",
    "builtin_function_or_method",
    "instance",
    "_Feature"
   ],
   "window_display": false
  }
 },
 "nbformat": 4,
 "nbformat_minor": 4
}
